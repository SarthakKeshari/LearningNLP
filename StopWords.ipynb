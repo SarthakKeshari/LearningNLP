{
  "nbformat": 4,
  "nbformat_minor": 0,
  "metadata": {
    "colab": {
      "name": "StopWords.ipynb",
      "provenance": [],
      "authorship_tag": "ABX9TyNdzoGsVGOoeNrN9R7UEKbY",
      "include_colab_link": true
    },
    "kernelspec": {
      "name": "python3",
      "display_name": "Python 3"
    },
    "language_info": {
      "name": "python"
    }
  },
  "cells": [
    {
      "cell_type": "markdown",
      "metadata": {
        "id": "view-in-github",
        "colab_type": "text"
      },
      "source": [
        "<a href=\"https://colab.research.google.com/github/SarthakKeshari/LearningNLP/blob/main/StopWords.ipynb\" target=\"_parent\"><img src=\"https://colab.research.google.com/assets/colab-badge.svg\" alt=\"Open In Colab\"/></a>"
      ]
    },
    {
      "cell_type": "code",
      "metadata": {
        "id": "FAM2RfMQTQDF"
      },
      "source": [
        "import spacy\n",
        "nlp = spacy.load('en_core_web_sm')"
      ],
      "execution_count": 1,
      "outputs": []
    },
    {
      "cell_type": "code",
      "metadata": {
        "colab": {
          "base_uri": "https://localhost:8080/"
        },
        "id": "5HoUMMdIWtmp",
        "outputId": "7a98325a-0d61-464f-8b2c-ee5cc0e81adf"
      },
      "source": [
        "import nltk\n",
        "nltk.download('stopwords')"
      ],
      "execution_count": 2,
      "outputs": [
        {
          "output_type": "stream",
          "text": [
            "[nltk_data] Downloading package stopwords to /root/nltk_data...\n",
            "[nltk_data]   Package stopwords is already up-to-date!\n"
          ],
          "name": "stdout"
        },
        {
          "output_type": "execute_result",
          "data": {
            "text/plain": [
              "True"
            ]
          },
          "metadata": {
            "tags": []
          },
          "execution_count": 2
        }
      ]
    },
    {
      "cell_type": "code",
      "metadata": {
        "colab": {
          "base_uri": "https://localhost:8080/"
        },
        "id": "WcvBLrvWW7Aa",
        "outputId": "2a3c2dc1-fa76-4f38-93bd-153bf7a8c63f"
      },
      "source": [
        "#Print the set of spacy's default stop words (remember that sets are unordered)\n",
        "print(nlp.Defaults.stop_words)"
      ],
      "execution_count": 3,
      "outputs": [
        {
          "output_type": "stream",
          "text": [
            "{'using', 'becomes', 'same', 'herself', 'twelve', 'the', 'something', 'whole', 'meanwhile', \"'d\", 'whenever', 're', 'much', 'herein', 'each', 'whereas', 'side', 'it', 'might', 'unless', \"n't\", 'except', 'down', 'by', 'onto', 'now', 'through', 'may', 'behind', 'thereafter', 'beforehand', 'rather', 'via', 'doing', 'so', 'make', 'most', 'should', 'whoever', 'anywhere', 'together', 'amount', 'ourselves', 'least', 'thus', 'say', 'noone', 'moreover', 'until', 'below', 'mostly', 'above', 'me', \"'re\", 'into', 'former', 'eleven', 'within', 'yourselves', 'therein', 'their', 'quite', 'per', 'well', 'used', 'really', 'many', 'thru', 'back', 'everyone', 'less', '’s', 'toward', 'beside', 'thereby', 'see', 'besides', 'am', 'empty', 'perhaps', 'one', 'whereafter', 'was', 'how', 'others', 'without', 'afterwards', 'three', 'my', 'whereby', 'everywhere', 'his', 'six', 'before', 'what', 'made', 'thence', 'forty', 'own', 'being', 'us', 'when', 'whither', '‘ve', 'call', 'almost', 'those', 'in', 'hereafter', 'became', 'have', 'last', 'at', 'although', '‘d', 'hence', 'anyone', 'too', 'get', 'to', 'yet', 'thereupon', 'were', 'as', 'every', 'seem', 'ten', 'itself', 'mine', 'n‘t', 'anyway', 'due', 'after', 'some', 'this', 'must', 'and', 'keep', 'we', 'become', 'otherwise', \"'ll\", 'there', 'all', 'part', 'over', 'could', 'yourself', 'cannot', 'been', 'even', 'myself', 'give', 'already', 'alone', 'or', 'full', 'is', 'regarding', 'nevertheless', 'had', 'towards', \"'m\", 'none', '‘ll', 'more', '‘m', 'anything', 'these', 'whose', 'i', 'anyhow', 'bottom', 'ours', 'five', 'beyond', 'nine', '‘re', 'our', '’re', 'done', 'n’t', 'neither', 'eight', 'you', 'nowhere', '’d', 'elsewhere', 'on', 'nothing', 'several', 'hundred', 'than', 'yours', 'amongst', 'which', 'against', 'either', 'everything', 'about', 'for', 'himself', 'wherever', 'while', 'move', 'hers', 'from', 'twenty', 'somehow', 'that', 'never', 'during', 'show', 'somewhere', 'seems', 'up', 'enough', 'seemed', 'next', 'themselves', 'just', 'her', 'does', \"'ve\", 'of', 'sixty', 'not', 'becoming', 'four', 'can', 'will', 'front', 'under', 'formerly', 'third', 'any', '‘s', 'serious', 'latterly', 'hereby', 'but', 'they', 'if', 'your', 'go', 'though', 'whereupon', 'him', 'top', 'because', 'he', 'be', 'seeming', 'again', 'therefore', 'throughout', 'where', 'nobody', 'did', 'upon', 'hereupon', 'namely', 'ca', 'an', 'whence', 'are', 'various', 'whatever', 'out', 'indeed', 'a', 'put', 'always', 'here', 'once', \"'s\", 'sometime', 'them', 'its', 'fifty', 'she', 'who', 'however', 'fifteen', 'do', 'why', 'among', 'such', 'with', 'has', 'someone', 'another', 'around', 'take', 'few', 'very', 'please', 'latter', 'other', 'across', 'else', 'then', '’m', 'wherein', 'would', '’ll', 'name', 'first', 'whether', 'two', 'whom', 'between', 'nor', 'also', 'no', 'only', 'since', 'sometimes', 'along', 'off', 'ever', 'still', 'often', 'both', '’ve', 'further'}\n"
          ],
          "name": "stdout"
        }
      ]
    },
    {
      "cell_type": "code",
      "metadata": {
        "colab": {
          "base_uri": "https://localhost:8080/"
        },
        "id": "r5S8zLz5Xbuv",
        "outputId": "7b6777d2-6ee7-4460-b08d-a3841e57ac39"
      },
      "source": [
        "len(nlp.Defaults.stop_words)"
      ],
      "execution_count": 4,
      "outputs": [
        {
          "output_type": "execute_result",
          "data": {
            "text/plain": [
              "326"
            ]
          },
          "metadata": {
            "tags": []
          },
          "execution_count": 4
        }
      ]
    },
    {
      "cell_type": "code",
      "metadata": {
        "colab": {
          "base_uri": "https://localhost:8080/"
        },
        "id": "YHbbsagrXgZu",
        "outputId": "97454cfe-cae1-47ad-92ca-dec6795883c7"
      },
      "source": [
        "#checking whether a word is stop word or not\n",
        "nlp.vocab['mystery'].is_stop"
      ],
      "execution_count": 5,
      "outputs": [
        {
          "output_type": "execute_result",
          "data": {
            "text/plain": [
              "False"
            ]
          },
          "metadata": {
            "tags": []
          },
          "execution_count": 5
        }
      ]
    },
    {
      "cell_type": "code",
      "metadata": {
        "id": "g7ovutmIXxBf"
      },
      "source": [
        "#Adding the word to the set of stop words. Use lowercase!\n",
        "nlp.Defaults.stop_words.add('mystery')\n",
        "\n",
        "#Also set the stop_word tag on the lexeme\n",
        "nlp.vocab['mystery'].is_stop = True"
      ],
      "execution_count": 6,
      "outputs": []
    },
    {
      "cell_type": "code",
      "metadata": {
        "colab": {
          "base_uri": "https://localhost:8080/"
        },
        "id": "kliBHXYNXw2y",
        "outputId": "aa3a7230-b708-4a14-cbc5-641a8ce8c77d"
      },
      "source": [
        "len(nlp.Defaults.stop_words)"
      ],
      "execution_count": 7,
      "outputs": [
        {
          "output_type": "execute_result",
          "data": {
            "text/plain": [
              "327"
            ]
          },
          "metadata": {
            "tags": []
          },
          "execution_count": 7
        }
      ]
    },
    {
      "cell_type": "code",
      "metadata": {
        "colab": {
          "base_uri": "https://localhost:8080/"
        },
        "id": "ET-ZFnDIZgbn",
        "outputId": "bcaa9e64-fec5-4661-e114-90028f9c5180"
      },
      "source": [
        "nlp.vocab['mystery'].is_stop"
      ],
      "execution_count": 8,
      "outputs": [
        {
          "output_type": "execute_result",
          "data": {
            "text/plain": [
              "True"
            ]
          },
          "metadata": {
            "tags": []
          },
          "execution_count": 8
        }
      ]
    },
    {
      "cell_type": "code",
      "metadata": {
        "colab": {
          "base_uri": "https://localhost:8080/"
        },
        "id": "-jMWyYI6Zxta",
        "outputId": "0afe54fc-35f6-457a-ea91-e15722ce4b9c"
      },
      "source": [
        "#checking whether a word is stop word or not\n",
        "nlp.vocab['beyond'].is_stop"
      ],
      "execution_count": 9,
      "outputs": [
        {
          "output_type": "execute_result",
          "data": {
            "text/plain": [
              "True"
            ]
          },
          "metadata": {
            "tags": []
          },
          "execution_count": 9
        }
      ]
    },
    {
      "cell_type": "code",
      "metadata": {
        "id": "8aZwg31hZxnO"
      },
      "source": [
        "#Removing the word to the set of stop words. Use lowercase!\n",
        "nlp.Defaults.stop_words.remove('beyond')\n",
        "\n",
        "#Also set the stop_word tag on the lexeme\n",
        "nlp.vocab['beyond'].is_stop = False"
      ],
      "execution_count": 10,
      "outputs": []
    },
    {
      "cell_type": "code",
      "metadata": {
        "colab": {
          "base_uri": "https://localhost:8080/"
        },
        "id": "4DoUx4jJaImJ",
        "outputId": "627059de-4585-448c-8c7c-42256b57b563"
      },
      "source": [
        "len(nlp.Defaults.stop_words)"
      ],
      "execution_count": 11,
      "outputs": [
        {
          "output_type": "execute_result",
          "data": {
            "text/plain": [
              "326"
            ]
          },
          "metadata": {
            "tags": []
          },
          "execution_count": 11
        }
      ]
    },
    {
      "cell_type": "code",
      "metadata": {
        "colab": {
          "base_uri": "https://localhost:8080/"
        },
        "id": "Jvhvz3ltZxg1",
        "outputId": "b9cfc9cc-128f-46bb-851e-c947b0c50b44"
      },
      "source": [
        "nlp.vocab['beyond'].is_stop"
      ],
      "execution_count": 12,
      "outputs": [
        {
          "output_type": "execute_result",
          "data": {
            "text/plain": [
              "False"
            ]
          },
          "metadata": {
            "tags": []
          },
          "execution_count": 12
        }
      ]
    },
    {
      "cell_type": "code",
      "metadata": {
        "colab": {
          "base_uri": "https://localhost:8080/"
        },
        "id": "9qyv0bwxaYBo",
        "outputId": "b1b7edba-aa51-44ff-e414-21654fff1811"
      },
      "source": [
        "#Program to filter a sentence properly\n",
        "\n",
        "import string\n",
        "import re\n",
        "import nltk\n",
        "nltk.download('punkt')\n",
        "from nltk import word_tokenize\n",
        "from nltk.corpus import stopwords\n",
        "#load data\n",
        "text = \"The Quick brown fox jump over the lazy dog!\"\n",
        "\n",
        "#split into words\n",
        "tokens = word_tokenize(text)\n",
        "print(\"Tokens: \",tokens,\"\\n\")\n",
        "\n",
        "#convert to lowercase\n",
        "tokens = [w.lower() for w in tokens]\n",
        "print(\"Token(after lowercase): \",tokens,\"\\n\")\n",
        "\n",
        "#prepare regex for char filtering\n",
        "re_punc = re.compile('[%s]' % re.escape(string.punctuation))\n",
        "print(\"Punctuations: \",re_punc,\"\\n\")\n",
        "\n",
        "#Remove punctuation from each word\n",
        "stripped = [re_punc.sub('',w) for w in tokens]\n",
        "print(\"After removing all punctuations: \",stripped,\"\\n\")\n",
        "\n",
        "#Remove remaining tokens that are not alphabetic\n",
        "words = [word for word in stripped if word.isalpha()]\n",
        "print(\"After considering only alphabetic words: \",words,\"\\n\")\n",
        "\n",
        "#Filtering out stop words\n",
        "stop_words = set(stopwords.words('english'))\n",
        "print(\"Set of stop words in nlp: \",stop_words,\"\\n\")\n",
        "words = [w for w in words if w not in stop_words]\n",
        "print(\"Final set of words(after filtering stop words): \",words,\"\\n\")"
      ],
      "execution_count": 17,
      "outputs": [
        {
          "output_type": "stream",
          "text": [
            "[nltk_data] Downloading package punkt to /root/nltk_data...\n",
            "[nltk_data]   Package punkt is already up-to-date!\n",
            "Tokens:  ['The', 'Quick', 'brown', 'fox', 'jump', 'over', 'the', 'lazy', 'dog', '!'] \n",
            "\n",
            "Token(after lowercase):  ['the', 'quick', 'brown', 'fox', 'jump', 'over', 'the', 'lazy', 'dog', '!'] \n",
            "\n",
            "Punctuations:  re.compile('[!\"\\\\#\\\\$%\\\\&\\'\\\\(\\\\)\\\\*\\\\+,\\\\-\\\\./:;<=>\\\\?@\\\\[\\\\\\\\\\\\]\\\\^_`\\\\{\\\\|\\\\}\\\\~]') \n",
            "\n",
            "After removing all punctuations:  ['the', 'quick', 'brown', 'fox', 'jump', 'over', 'the', 'lazy', 'dog', ''] \n",
            "\n",
            "After considering only alphabetic words:  ['the', 'quick', 'brown', 'fox', 'jump', 'over', 'the', 'lazy', 'dog'] \n",
            "\n",
            "Set of stop words in nlp:  {'i', 'my', \"shouldn't\", 'his', 'him', \"haven't\", 'ours', 'having', 'because', 'same', 'herself', 'he', 'weren', 'be', \"don't\", 'before', 'what', 'the', 'again', 'where', 'our', 'did', 'being', 'own', 're', \"it's\", \"wasn't\", 'don', 'ain', 'o', 'wasn', 'an', 'll', 'hadn', 'when', 'each', 'are', 'you', 'won', \"should've\", 'those', \"mustn't\", 'shan', 'm', \"you're\", 'out', 'in', 'a', \"she's\", 'it', 'on', 'have', 'isn', 'down', 'by', 'here', 'once', 'than', 'yours', 'd', 'which', 'at', 'now', 'through', \"aren't\", 'against', \"weren't\", 'them', 'theirs', \"mightn't\", 'its', 'shouldn', 'didn', 'too', \"shan't\", 'she', 'about', 'who', 'for', 'to', 's', 'doing', 'do', 'were', 'as', 'so', 'why', 'hasn', 'such', 'himself', 'most', 'should', 'while', 'with', 'has', 'hers', 'ourselves', 'until', 'below', 'from', 'few', 'very', 'itself', 'above', 'me', 'that', 'during', 'into', 'other', 'after', 'some', 'this', \"that'll\", 'and', 'up', \"you'll\", 'then', 'aren', 'yourselves', 'mustn', 'we', 'themselves', 'their', 'just', 'her', 'does', 'of', 'doesn', 'there', \"doesn't\", \"wouldn't\", 'not', 'all', 'whom', \"needn't\", 'between', 've', 'mightn', \"hadn't\", 'over', \"won't\", 'yourself', 'been', 't', 'y', 'can', 'nor', 'will', 'myself', 'ma', 'under', \"didn't\", 'any', 'or', 'no', 'only', 'am', 'is', 'wouldn', 'off', 'had', 'couldn', 'needn', 'but', \"you've\", 'was', 'how', 'both', 'haven', \"isn't\", 'they', 'more', 'if', 'your', \"you'd\", \"hasn't\", 'further', \"couldn't\", 'these'} \n",
            "\n",
            "Final set of words(after filtering stop words):  ['quick', 'brown', 'fox', 'jump', 'lazy', 'dog'] \n",
            "\n"
          ],
          "name": "stdout"
        }
      ]
    }
  ]
}