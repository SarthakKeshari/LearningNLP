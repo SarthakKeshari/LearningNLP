{
  "nbformat": 4,
  "nbformat_minor": 0,
  "metadata": {
    "colab": {
      "name": "Vocabulary&Matching.ipynb",
      "provenance": [],
      "authorship_tag": "ABX9TyOp6UB82IG7A43XbDMAO5OW",
      "include_colab_link": true
    },
    "kernelspec": {
      "name": "python3",
      "display_name": "Python 3"
    },
    "language_info": {
      "name": "python"
    }
  },
  "cells": [
    {
      "cell_type": "markdown",
      "metadata": {
        "id": "view-in-github",
        "colab_type": "text"
      },
      "source": [
        "<a href=\"https://colab.research.google.com/github/SarthakKeshari/LearningNLP/blob/main/Vocabulary%26Matching.ipynb\" target=\"_parent\"><img src=\"https://colab.research.google.com/assets/colab-badge.svg\" alt=\"Open In Colab\"/></a>"
      ]
    },
    {
      "cell_type": "code",
      "metadata": {
        "id": "rWGnRZf0SfNx"
      },
      "source": [
        "# Perform standard imports\n",
        "import spacy\n",
        "nlp = spacy.load('en_core_web_sm')"
      ],
      "execution_count": 1,
      "outputs": []
    },
    {
      "cell_type": "code",
      "metadata": {
        "id": "ElvFz5iETrO0"
      },
      "source": [
        "# Import the matcher library\n",
        "from spacy.matcher import Matcher\n",
        "matcher = Matcher(nlp.vocab)"
      ],
      "execution_count": 2,
      "outputs": []
    },
    {
      "cell_type": "code",
      "metadata": {
        "id": "n5Dq_T7sWGob"
      },
      "source": [
        "pattern1 = [{'LOWER':'solarpower'}]\n",
        "pattern2 = [{'LOWER':'solar'},{'LOWER':'power'}]\n",
        "pattern3 = [{'LOWER':'solar'},{'IS_PUNCT':True},{'LOWER':'power'}]\n",
        "\n",
        "matcher.add('SolarPower',None,pattern1,pattern2,pattern3)"
      ],
      "execution_count": 3,
      "outputs": []
    },
    {
      "cell_type": "code",
      "metadata": {
        "id": "YftzZg-KbU16"
      },
      "source": [
        "doc = nlp(u'The Solar Power industry continues to grow as demand \\\n",
        "for solarpower increases. Solar-power cars are gaining popularity.')"
      ],
      "execution_count": 4,
      "outputs": []
    },
    {
      "cell_type": "code",
      "metadata": {
        "colab": {
          "base_uri": "https://localhost:8080/"
        },
        "id": "f6cNrp1hb3Hu",
        "outputId": "8c24be83-a50a-4ffd-e50f-b21329677084"
      },
      "source": [
        "found_matches = matcher(doc)\n",
        "print(found_matches)"
      ],
      "execution_count": 5,
      "outputs": [
        {
          "output_type": "stream",
          "text": [
            "[(8656102463236116519, 1, 3), (8656102463236116519, 10, 11), (8656102463236116519, 13, 16)]\n"
          ],
          "name": "stdout"
        }
      ]
    },
    {
      "cell_type": "code",
      "metadata": {
        "colab": {
          "base_uri": "https://localhost:8080/"
        },
        "id": "_UdgGVCwcvS-",
        "outputId": "dd2bc5ca-fbc3-4883-a8e2-34fb099fdb00"
      },
      "source": [
        "for match_id,start,end in found_matches:\n",
        "  string_id = nlp.vocab.strings[match_id]\n",
        "  span = doc[start:end]\n",
        "  print(match_id,string_id,start,end,span.text)"
      ],
      "execution_count": 6,
      "outputs": [
        {
          "output_type": "stream",
          "text": [
            "8656102463236116519 SolarPower 1 3 Solar Power\n",
            "8656102463236116519 SolarPower 10 11 solarpower\n",
            "8656102463236116519 SolarPower 13 16 Solar-power\n"
          ],
          "name": "stdout"
        }
      ]
    },
    {
      "cell_type": "code",
      "metadata": {
        "id": "WFNoVMQRfEop"
      },
      "source": [
        "#Redefine the patterns\n",
        "pattern1 = [{'LOWER':'solarpower'}]\n",
        "pattern2 = [{'LOWER':'solar'},{'IS_PUNCT':True,'OP':'*'},{'LOWER':'power'}]\n",
        "\n",
        "#Remove the old patterns to avoid duplication\n",
        "matcher.remove('SolarPower')\n",
        "\n",
        "#Add the new set of patterns to the 'SolarPower' matcher\n",
        "matcher.add('SolarPower',None,pattern1,pattern2)"
      ],
      "execution_count": 7,
      "outputs": []
    },
    {
      "cell_type": "code",
      "metadata": {
        "colab": {
          "base_uri": "https://localhost:8080/"
        },
        "id": "hAzXy-WOhkYF",
        "outputId": "672459af-ce04-4587-eb6e-61522277f9ee"
      },
      "source": [
        "found_matches = matcher(doc)\n",
        "print(found_matches)"
      ],
      "execution_count": 8,
      "outputs": [
        {
          "output_type": "stream",
          "text": [
            "[(8656102463236116519, 1, 3), (8656102463236116519, 10, 11), (8656102463236116519, 13, 16)]\n"
          ],
          "name": "stdout"
        }
      ]
    },
    {
      "cell_type": "markdown",
      "metadata": {
        "id": "UmPb6amVhz99"
      },
      "source": [
        "Be careful with lemmas"
      ]
    },
    {
      "cell_type": "code",
      "metadata": {
        "id": "UjUcgQgihwyJ"
      },
      "source": [
        "pattern1 = [{'LOWER':'solarpower'}]\n",
        "pattern2 = [{'LOWER':'solar'},{'IS_PUNCT':True,'OP':'*'},{'LEMMA':'power'}]\n",
        "\n",
        "#Remove the old patterns to avoid duplication\n",
        "matcher.remove('SolarPower')\n",
        "\n",
        "#Add the new set of patterns to the 'SolarPower' matcher\n",
        "matcher.add('SolarPower',None,pattern1,pattern2)"
      ],
      "execution_count": 9,
      "outputs": []
    },
    {
      "cell_type": "code",
      "metadata": {
        "id": "WB394-h9iSrG"
      },
      "source": [
        "doc2 = nlp(u'Solar-powered energy runs solar-powered cars')"
      ],
      "execution_count": 10,
      "outputs": []
    },
    {
      "cell_type": "code",
      "metadata": {
        "colab": {
          "base_uri": "https://localhost:8080/"
        },
        "id": "ATT55QBNieKn",
        "outputId": "eaa4ee43-d654-4a86-b536-3488050c394e"
      },
      "source": [
        "found_matches = matcher(doc2)\n",
        "print(found_matches)"
      ],
      "execution_count": 11,
      "outputs": [
        {
          "output_type": "stream",
          "text": [
            "[(8656102463236116519, 0, 3), (8656102463236116519, 5, 8)]\n"
          ],
          "name": "stdout"
        }
      ]
    },
    {
      "cell_type": "code",
      "metadata": {
        "id": "TxoS0uRZkRYY"
      },
      "source": [
        "pattern1 = [{'LOWER':'solarpower'}]\n",
        "pattern2 = [{'LOWER':'solar'},{'IS_PUNCT':True,'OP':'*'},{'LOWER':'power'}]\n",
        "pattern3 = [{'LOWER':'solarpowered'}]\n",
        "pattern4 = [{'LOWER':'solar'},{'IS_PUNCT':True,'OP':'*'},{'LOWER':'powered'}]\n",
        "\n",
        "#Remove the old patterns to avoid duplication\n",
        "matcher.remove('SolarPower')\n",
        "\n",
        "#Add the new set of patterns to the 'SolarPower' matcher\n",
        "matcher.add('SolarPower',None,pattern1,pattern2,pattern3,pattern4)"
      ],
      "execution_count": 12,
      "outputs": []
    },
    {
      "cell_type": "code",
      "metadata": {
        "colab": {
          "base_uri": "https://localhost:8080/"
        },
        "id": "z8WaoZfKkiCL",
        "outputId": "e217225c-6638-4ac5-99c7-b974b3293c1c"
      },
      "source": [
        "found_matches = matcher(doc2)\n",
        "print(found_matches)"
      ],
      "execution_count": 13,
      "outputs": [
        {
          "output_type": "stream",
          "text": [
            "[(8656102463236116519, 0, 3), (8656102463236116519, 5, 8)]\n"
          ],
          "name": "stdout"
        }
      ]
    },
    {
      "cell_type": "markdown",
      "metadata": {
        "id": "gGTBTCHzk7Gt"
      },
      "source": [
        "Token wildcard -     [{'ORTH':'#'},{}]"
      ]
    },
    {
      "cell_type": "code",
      "metadata": {
        "id": "F4haoeMJlFXv"
      },
      "source": [
        "# PHRASE MATCHER\n",
        "\n",
        "import spacy\n",
        "nlp = spacy.load('en_core_web_sm')"
      ],
      "execution_count": 14,
      "outputs": []
    },
    {
      "cell_type": "code",
      "metadata": {
        "id": "eP4KqeJvlwRF"
      },
      "source": [
        "from spacy.matcher import PhraseMatcher\n",
        "matcher = PhraseMatcher(nlp.vocab, attr='LOWER')"
      ],
      "execution_count": 15,
      "outputs": []
    },
    {
      "cell_type": "code",
      "metadata": {
        "id": "LRV288Q7l8e9"
      },
      "source": [
        "terms = ['Galaxy Note','iPhone 11','iPhone XS','Google Pixel']\n",
        "patterns = [nlp(text) for text in terms]\n",
        "matcher.add('TerminologyList',None,*patterns)"
      ],
      "execution_count": 16,
      "outputs": []
    },
    {
      "cell_type": "code",
      "metadata": {
        "colab": {
          "base_uri": "https://localhost:8080/"
        },
        "id": "nQEJ-Dh9mbZS",
        "outputId": "d1d99e4f-d1f5-41ad-be45-2593ea697d99"
      },
      "source": [
        "text_doc = nlp(\"Glowing review overall, and some really interesting side-by-side\"\n",
        "\"photography tests pitting the iPhone 11 Pro against the\"\n",
        "\"Galaxy Note 10 Plus and last year's iPhone XS and Google Pixel 3\")\n",
        "\n",
        "matches = matcher(text_doc)\n",
        "print(matches)"
      ],
      "execution_count": 17,
      "outputs": [
        {
          "output_type": "stream",
          "text": [
            "[(3766102292120407359, 16, 18), (3766102292120407359, 28, 30), (3766102292120407359, 31, 33)]\n"
          ],
          "name": "stdout"
        }
      ]
    },
    {
      "cell_type": "code",
      "metadata": {
        "colab": {
          "base_uri": "https://localhost:8080/"
        },
        "id": "eLfSRN3lnYhh",
        "outputId": "44961e64-3603-4fd5-82ca-c94f8013a6e9"
      },
      "source": [
        "match_id,start,end=matches[1]\n",
        "print(nlp.vocab.strings[match_id],text_doc[start:end])"
      ],
      "execution_count": 18,
      "outputs": [
        {
          "output_type": "stream",
          "text": [
            "TerminologyList iPhone XS\n"
          ],
          "name": "stdout"
        }
      ]
    }
  ]
}