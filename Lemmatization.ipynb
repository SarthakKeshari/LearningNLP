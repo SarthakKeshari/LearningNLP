{
  "nbformat": 4,
  "nbformat_minor": 0,
  "metadata": {
    "colab": {
      "name": "Lemmatization.ipynb",
      "provenance": [],
      "authorship_tag": "ABX9TyMx3dQFkHRc3xHYkG5jdynw",
      "include_colab_link": true
    },
    "kernelspec": {
      "name": "python3",
      "display_name": "Python 3"
    },
    "language_info": {
      "name": "python"
    }
  },
  "cells": [
    {
      "cell_type": "markdown",
      "metadata": {
        "id": "view-in-github",
        "colab_type": "text"
      },
      "source": [
        "<a href=\"https://colab.research.google.com/github/SarthakKeshari/LearningNLP/blob/main/Lemmatization.ipynb\" target=\"_parent\"><img src=\"https://colab.research.google.com/assets/colab-badge.svg\" alt=\"Open In Colab\"/></a>"
      ]
    },
    {
      "cell_type": "code",
      "metadata": {
        "id": "wQdNhIVNMX01"
      },
      "source": [
        "import spacy\n",
        "nlp = spacy.load('en_core_web_sm')"
      ],
      "execution_count": null,
      "outputs": []
    },
    {
      "cell_type": "code",
      "metadata": {
        "colab": {
          "base_uri": "https://localhost:8080/"
        },
        "id": "AUTdYomdNqat",
        "outputId": "e40d58fb-0711-4852-c9f2-408556d26a0f"
      },
      "source": [
        "var1 = nlp(u\"John Adam is one of the researcher who invent the direction of way towards success\")\n",
        "\n",
        "for token in var1:\n",
        "  print(token.text+' - '+token.pos_+' - ',token.lemma,' - '+token.lemma_)"
      ],
      "execution_count": null,
      "outputs": [
        {
          "output_type": "stream",
          "text": [
            "John - PROPN -  11174346320140919546  - John\n",
            "Adam - PROPN -  14264057329400597350  - Adam\n",
            "is - AUX -  10382539506755952630  - be\n",
            "one - NUM -  17454115351911680600  - one\n",
            "of - ADP -  886050111519832510  - of\n",
            "the - DET -  7425985699627899538  - the\n",
            "researcher - NOUN -  1317581537614213870  - researcher\n",
            "who - PRON -  3876862883474502309  - who\n",
            "invent - VERB -  5373681334090504585  - invent\n",
            "the - DET -  7425985699627899538  - the\n",
            "direction - NOUN -  895834437038626927  - direction\n",
            "of - ADP -  886050111519832510  - of\n",
            "way - NOUN -  6878210874361030284  - way\n",
            "towards - ADP -  9315050841437086371  - towards\n",
            "success - NOUN -  16089821935113899987  - success\n"
          ],
          "name": "stdout"
        }
      ]
    },
    {
      "cell_type": "code",
      "metadata": {
        "id": "19aOwCvMOyDr"
      },
      "source": [
        "def show_lemma(text):\n",
        "  for token in text:\n",
        "    print(f'{token.text:{12}} {token.pos_:{6}} {token.lemma:<{22}} {token.lemma_}')"
      ],
      "execution_count": null,
      "outputs": []
    },
    {
      "cell_type": "code",
      "metadata": {
        "colab": {
          "base_uri": "https://localhost:8080/"
        },
        "id": "LXFs19mlPNyq",
        "outputId": "a0e89e96-a2dc-4d27-aedc-6dc51cecbc5b"
      },
      "source": [
        "var4 = nlp(\"That's one of the greatest person in the world\")\n",
        "show_lemma(var4)"
      ],
      "execution_count": null,
      "outputs": [
        {
          "output_type": "stream",
          "text": [
            "That         DET    4380130941430378203    that\n",
            "'s           AUX    10382539506755952630   be\n",
            "one          NUM    17454115351911680600   one\n",
            "of           ADP    886050111519832510     of\n",
            "the          DET    7425985699627899538    the\n",
            "greatest     ADJ    8881679497796027013    great\n",
            "person       NOUN   14800503047316267216   person\n",
            "in           ADP    3002984154512732771    in\n",
            "the          DET    7425985699627899538    the\n",
            "world        NOUN   1703489418272052182    world\n"
          ],
          "name": "stdout"
        }
      ]
    }
  ]
}